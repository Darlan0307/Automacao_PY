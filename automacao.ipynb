{
 "cells": [
  {
   "attachments": {},
   "cell_type": "markdown",
   "metadata": {},
   "source": [
    "# Projeto de automação com Python"
   ]
  },
  {
   "attachments": {},
   "cell_type": "markdown",
   "metadata": {},
   "source": [
    "# Desafio:"
   ]
  },
  {
   "attachments": {},
   "cell_type": "markdown",
   "metadata": {},
   "source": [
    "## enviar um e-mail com o valor da cotação de algumas ações. O e-mail precisa conter as informações dos últimos seis meses:\n",
    "- Cotação mínima da ação\n",
    "- Cotação máxima da ação\n",
    "- Cotação do dia"
   ]
  },
  {
   "attachments": {},
   "cell_type": "markdown",
   "metadata": {},
   "source": [
    "## Bibliotecas usadas"
   ]
  },
  {
   "cell_type": "code",
   "execution_count": 54,
   "metadata": {},
   "outputs": [],
   "source": [
    "#Obtendo os dados\n",
    "import yfinance\n",
    "\n",
    "#Automação de mouse e teclado\n",
    "import pyautogui\n",
    "import pyperclip\n",
    "\n",
    "#Usarei para executar um código depois de alguns segundos\n",
    "import time"
   ]
  },
  {
   "attachments": {},
   "cell_type": "markdown",
   "metadata": {},
   "source": [
    "## Escolhendo qual ação financeira sera utilizada para análise"
   ]
  },
  {
   "cell_type": "code",
   "execution_count": 55,
   "metadata": {},
   "outputs": [],
   "source": [
    "#obtendo os dados\n",
    "Ticker = input('Digite o código da ação')\n",
    "dados = yfinance.Ticker(Ticker)"
   ]
  },
  {
   "cell_type": "code",
   "execution_count": 56,
   "metadata": {},
   "outputs": [
    {
     "data": {
      "text/html": [
       "<div>\n",
       "<style scoped>\n",
       "    .dataframe tbody tr th:only-of-type {\n",
       "        vertical-align: middle;\n",
       "    }\n",
       "\n",
       "    .dataframe tbody tr th {\n",
       "        vertical-align: top;\n",
       "    }\n",
       "\n",
       "    .dataframe thead th {\n",
       "        text-align: right;\n",
       "    }\n",
       "</style>\n",
       "<table border=\"1\" class=\"dataframe\">\n",
       "  <thead>\n",
       "    <tr style=\"text-align: right;\">\n",
       "      <th></th>\n",
       "      <th>Open</th>\n",
       "      <th>High</th>\n",
       "      <th>Low</th>\n",
       "      <th>Close</th>\n",
       "      <th>Volume</th>\n",
       "      <th>Dividends</th>\n",
       "      <th>Stock Splits</th>\n",
       "    </tr>\n",
       "    <tr>\n",
       "      <th>Date</th>\n",
       "      <th></th>\n",
       "      <th></th>\n",
       "      <th></th>\n",
       "      <th></th>\n",
       "      <th></th>\n",
       "      <th></th>\n",
       "      <th></th>\n",
       "    </tr>\n",
       "  </thead>\n",
       "  <tbody>\n",
       "    <tr>\n",
       "      <th>2022-09-20 00:00:00-03:00</th>\n",
       "      <td>27.490858</td>\n",
       "      <td>27.648349</td>\n",
       "      <td>26.983389</td>\n",
       "      <td>27.202126</td>\n",
       "      <td>67798200</td>\n",
       "      <td>0.0</td>\n",
       "      <td>0.0</td>\n",
       "    </tr>\n",
       "    <tr>\n",
       "      <th>2022-09-21 00:00:00-03:00</th>\n",
       "      <td>27.429612</td>\n",
       "      <td>27.534605</td>\n",
       "      <td>27.027135</td>\n",
       "      <td>27.272121</td>\n",
       "      <td>58812200</td>\n",
       "      <td>0.0</td>\n",
       "      <td>0.0</td>\n",
       "    </tr>\n",
       "    <tr>\n",
       "      <th>2022-09-22 00:00:00-03:00</th>\n",
       "      <td>27.543354</td>\n",
       "      <td>28.068325</td>\n",
       "      <td>27.149629</td>\n",
       "      <td>27.945831</td>\n",
       "      <td>69764300</td>\n",
       "      <td>0.0</td>\n",
       "      <td>0.0</td>\n",
       "    </tr>\n",
       "    <tr>\n",
       "      <th>2022-09-23 00:00:00-03:00</th>\n",
       "      <td>27.403363</td>\n",
       "      <td>27.464609</td>\n",
       "      <td>26.047195</td>\n",
       "      <td>26.195936</td>\n",
       "      <td>138630800</td>\n",
       "      <td>0.0</td>\n",
       "      <td>0.0</td>\n",
       "    </tr>\n",
       "    <tr>\n",
       "      <th>2022-09-26 00:00:00-03:00</th>\n",
       "      <td>26.003446</td>\n",
       "      <td>26.318428</td>\n",
       "      <td>25.609721</td>\n",
       "      <td>25.627220</td>\n",
       "      <td>42934600</td>\n",
       "      <td>0.0</td>\n",
       "      <td>0.0</td>\n",
       "    </tr>\n",
       "    <tr>\n",
       "      <th>...</th>\n",
       "      <td>...</td>\n",
       "      <td>...</td>\n",
       "      <td>...</td>\n",
       "      <td>...</td>\n",
       "      <td>...</td>\n",
       "      <td>...</td>\n",
       "      <td>...</td>\n",
       "    </tr>\n",
       "    <tr>\n",
       "      <th>2023-03-14 00:00:00-03:00</th>\n",
       "      <td>24.280001</td>\n",
       "      <td>24.730000</td>\n",
       "      <td>23.600000</td>\n",
       "      <td>23.760000</td>\n",
       "      <td>58916700</td>\n",
       "      <td>0.0</td>\n",
       "      <td>0.0</td>\n",
       "    </tr>\n",
       "    <tr>\n",
       "      <th>2023-03-15 00:00:00-03:00</th>\n",
       "      <td>23.330000</td>\n",
       "      <td>23.480000</td>\n",
       "      <td>22.799999</td>\n",
       "      <td>23.340000</td>\n",
       "      <td>93708800</td>\n",
       "      <td>0.0</td>\n",
       "      <td>0.0</td>\n",
       "    </tr>\n",
       "    <tr>\n",
       "      <th>2023-03-16 00:00:00-03:00</th>\n",
       "      <td>23.400000</td>\n",
       "      <td>23.520000</td>\n",
       "      <td>22.969999</td>\n",
       "      <td>23.260000</td>\n",
       "      <td>66821000</td>\n",
       "      <td>0.0</td>\n",
       "      <td>0.0</td>\n",
       "    </tr>\n",
       "    <tr>\n",
       "      <th>2023-03-17 00:00:00-03:00</th>\n",
       "      <td>23.100000</td>\n",
       "      <td>23.510000</td>\n",
       "      <td>22.860001</td>\n",
       "      <td>23.510000</td>\n",
       "      <td>93502700</td>\n",
       "      <td>0.0</td>\n",
       "      <td>0.0</td>\n",
       "    </tr>\n",
       "    <tr>\n",
       "      <th>2023-03-20 00:00:00-03:00</th>\n",
       "      <td>23.510000</td>\n",
       "      <td>23.650000</td>\n",
       "      <td>22.889999</td>\n",
       "      <td>22.930000</td>\n",
       "      <td>57210500</td>\n",
       "      <td>0.0</td>\n",
       "      <td>0.0</td>\n",
       "    </tr>\n",
       "  </tbody>\n",
       "</table>\n",
       "<p>124 rows × 7 columns</p>\n",
       "</div>"
      ],
      "text/plain": [
       "                                Open       High        Low      Close  \\\n",
       "Date                                                                    \n",
       "2022-09-20 00:00:00-03:00  27.490858  27.648349  26.983389  27.202126   \n",
       "2022-09-21 00:00:00-03:00  27.429612  27.534605  27.027135  27.272121   \n",
       "2022-09-22 00:00:00-03:00  27.543354  28.068325  27.149629  27.945831   \n",
       "2022-09-23 00:00:00-03:00  27.403363  27.464609  26.047195  26.195936   \n",
       "2022-09-26 00:00:00-03:00  26.003446  26.318428  25.609721  25.627220   \n",
       "...                              ...        ...        ...        ...   \n",
       "2023-03-14 00:00:00-03:00  24.280001  24.730000  23.600000  23.760000   \n",
       "2023-03-15 00:00:00-03:00  23.330000  23.480000  22.799999  23.340000   \n",
       "2023-03-16 00:00:00-03:00  23.400000  23.520000  22.969999  23.260000   \n",
       "2023-03-17 00:00:00-03:00  23.100000  23.510000  22.860001  23.510000   \n",
       "2023-03-20 00:00:00-03:00  23.510000  23.650000  22.889999  22.930000   \n",
       "\n",
       "                              Volume  Dividends  Stock Splits  \n",
       "Date                                                           \n",
       "2022-09-20 00:00:00-03:00   67798200        0.0           0.0  \n",
       "2022-09-21 00:00:00-03:00   58812200        0.0           0.0  \n",
       "2022-09-22 00:00:00-03:00   69764300        0.0           0.0  \n",
       "2022-09-23 00:00:00-03:00  138630800        0.0           0.0  \n",
       "2022-09-26 00:00:00-03:00   42934600        0.0           0.0  \n",
       "...                              ...        ...           ...  \n",
       "2023-03-14 00:00:00-03:00   58916700        0.0           0.0  \n",
       "2023-03-15 00:00:00-03:00   93708800        0.0           0.0  \n",
       "2023-03-16 00:00:00-03:00   66821000        0.0           0.0  \n",
       "2023-03-17 00:00:00-03:00   93502700        0.0           0.0  \n",
       "2023-03-20 00:00:00-03:00   57210500        0.0           0.0  \n",
       "\n",
       "[124 rows x 7 columns]"
      ]
     },
     "execution_count": 56,
     "metadata": {},
     "output_type": "execute_result"
    }
   ],
   "source": [
    "#Filtrando os últimos 6 meses dos dados\n",
    "tabela = dados.history('6mo')\n",
    "tabela"
   ]
  },
  {
   "attachments": {},
   "cell_type": "markdown",
   "metadata": {},
   "source": [
    "## Analises"
   ]
  },
  {
   "cell_type": "code",
   "execution_count": 57,
   "metadata": {},
   "outputs": [],
   "source": [
    "#cotação máxima\n",
    "maxima = round(tabela['Close'].max(),2)\n",
    "\n",
    "#cotação mínima\n",
    "minima = round(tabela['Close'].min(),2)\n",
    "\n",
    "#cotação do dia\n",
    "atual = round(tabela['Close'][-1],2)"
   ]
  },
  {
   "cell_type": "code",
   "execution_count": 58,
   "metadata": {},
   "outputs": [
    {
     "name": "stdout",
     "output_type": "stream",
     "text": [
      "33.0\n",
      "21.47\n",
      "22.93\n"
     ]
    }
   ],
   "source": [
    "print(maxima)\n",
    "print(minima)\n",
    "print(atual)"
   ]
  },
  {
   "attachments": {},
   "cell_type": "markdown",
   "metadata": {},
   "source": [
    "## Criando email"
   ]
  },
  {
   "cell_type": "code",
   "execution_count": 59,
   "metadata": {},
   "outputs": [],
   "source": [
    "#Guardando informções para o email\n",
    "\n",
    "destinatario = 'email destino '\n",
    "\n",
    "assunto = 'Teste de projeto'\n",
    "\n",
    "mensagem = f'''\n",
    "Bom dia,\n",
    "Segue abaixo as análises da ação {Ticker} dos últimos seis meses:\n",
    "\n",
    "Cotação máxima: R${maxima}\n",
    "Cotação mínima: R${minima}\n",
    "Cotação atual:  R${atual}\n",
    "\n",
    "Atenciosamente, \n",
    "seu nome.\n",
    "'''"
   ]
  },
  {
   "cell_type": "code",
   "execution_count": null,
   "metadata": {},
   "outputs": [],
   "source": [
    "print(destinatario)\n",
    "print(assunto)\n",
    "print(mensagem)"
   ]
  },
  {
   "attachments": {},
   "cell_type": "markdown",
   "metadata": {},
   "source": [
    "## Descobrir a localização do ponteiro"
   ]
  },
  {
   "cell_type": "code",
   "execution_count": 61,
   "metadata": {},
   "outputs": [
    {
     "data": {
      "text/plain": [
       "Point(x=276, y=107)"
      ]
     },
     "execution_count": 61,
     "metadata": {},
     "output_type": "execute_result"
    }
   ],
   "source": [
    "# Use este código para descobrir a localizasão do seu ponteiro em seu monitor\n",
    "time.sleep(5)\n",
    "pyautogui.position()"
   ]
  },
  {
   "attachments": {},
   "cell_type": "markdown",
   "metadata": {},
   "source": [
    "## Enviando email automaticamente"
   ]
  },
  {
   "cell_type": "code",
   "execution_count": 62,
   "metadata": {},
   "outputs": [
    {
     "name": "stdout",
     "output_type": "stream",
     "text": [
      "Email enviado com sucesso\n"
     ]
    }
   ],
   "source": [
    "#Definindo uma pausa nas ações do pyautogui\n",
    "pyautogui.PAUSE = 15\n",
    "\n",
    "#Abrindo o Google\n",
    "pyautogui.click(x=366, y=751)\n",
    "\n",
    "#Entrar no gmail\n",
    "pyperclip.copy('www.gmail.com')\n",
    "pyautogui.hotkey('ctrl','v')\n",
    "pyautogui.press('enter')\n",
    "\n",
    "#Clicando em escrever email\n",
    "pyautogui.click(x=132, y=201)\n",
    "\n",
    "# preenchendo campo do destinatário\n",
    "pyperclip.copy(destinatario)\n",
    "pyautogui.hotkey('ctrl','v')\n",
    "pyautogui.press('tab')\n",
    "\n",
    "#preenchendo campo do assunto\n",
    "pyperclip.copy(assunto)\n",
    "pyautogui.hotkey('ctrl','v')\n",
    "pyautogui.press('tab')\n",
    "\n",
    "#preenchendo campo da mensagem\n",
    "pyperclip.copy(mensagem)\n",
    "pyautogui.hotkey('ctrl','v')\n",
    "\n",
    "#apertando no botão de enviar\n",
    "pyautogui.click(x=840, y=704)\n",
    "\n",
    "print('Email enviado com sucesso')\n",
    "\n"
   ]
  }
 ],
 "metadata": {
  "kernelspec": {
   "display_name": "Python 3",
   "language": "python",
   "name": "python3"
  },
  "language_info": {
   "codemirror_mode": {
    "name": "ipython",
    "version": 3
   },
   "file_extension": ".py",
   "mimetype": "text/x-python",
   "name": "python",
   "nbconvert_exporter": "python",
   "pygments_lexer": "ipython3",
   "version": "3.11.2"
  },
  "orig_nbformat": 4
 },
 "nbformat": 4,
 "nbformat_minor": 2
}
